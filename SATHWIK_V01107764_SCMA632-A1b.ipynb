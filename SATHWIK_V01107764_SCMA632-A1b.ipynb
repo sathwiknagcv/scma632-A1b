{
 "cells": [
  {
   "cell_type": "code",
   "execution_count": 1,
   "id": "9d35296f",
   "metadata": {
    "ExecuteTime": {
     "end_time": "2024-06-17T18:40:55.517191Z",
     "start_time": "2024-06-17T18:40:55.501554Z"
    }
   },
   "outputs": [],
   "source": [
    "import os\n",
    "import pandas as pd\n",
    "import numpy as np\n",
    "import matplotlib.pyplot as plt\n",
    "import seaborn as sns"
   ]
  },
  {
   "cell_type": "code",
   "execution_count": 4,
   "id": "ccea5d65",
   "metadata": {
    "ExecuteTime": {
     "end_time": "2024-06-17T18:41:02.872798Z",
     "start_time": "2024-06-17T18:41:02.864783Z"
    }
   },
   "outputs": [],
   "source": [
    "os.chdir('C:\\\\Users\\\\Admin\\\\Downloads\\\\Bootcamp Assignement\\\\A1b')"
   ]
  },
  {
   "cell_type": "code",
   "execution_count": 5,
   "id": "4e18af9c",
   "metadata": {
    "ExecuteTime": {
     "end_time": "2024-06-17T18:45:43.893820Z",
     "start_time": "2024-06-17T18:45:41.588693Z"
    }
   },
   "outputs": [],
   "source": [
    "ipl_bbb = pd.read_csv('IPL_ball_by_ball_updated till 2024.csv',low_memory=False)"
   ]
  },
  {
   "cell_type": "code",
   "execution_count": 6,
   "id": "c9f1dae5",
   "metadata": {
    "ExecuteTime": {
     "end_time": "2024-06-17T18:42:45.099983Z",
     "start_time": "2024-06-17T18:42:44.158183Z"
    }
   },
   "outputs": [],
   "source": [
    "ipl_salary = pd.read_excel('IPL SALARIES 2024.xlsx')"
   ]
  },
  {
   "cell_type": "code",
   "execution_count": 7,
   "id": "890ec4e9",
   "metadata": {
    "ExecuteTime": {
     "end_time": "2024-06-17T20:11:18.415809Z",
     "start_time": "2024-06-17T20:11:18.401437Z"
    }
   },
   "outputs": [
    {
     "data": {
      "text/html": [
       "<div>\n",
       "<style scoped>\n",
       "    .dataframe tbody tr th:only-of-type {\n",
       "        vertical-align: middle;\n",
       "    }\n",
       "\n",
       "    .dataframe tbody tr th {\n",
       "        vertical-align: top;\n",
       "    }\n",
       "\n",
       "    .dataframe thead th {\n",
       "        text-align: right;\n",
       "    }\n",
       "</style>\n",
       "<table border=\"1\" class=\"dataframe\">\n",
       "  <thead>\n",
       "    <tr style=\"text-align: right;\">\n",
       "      <th></th>\n",
       "      <th>Player</th>\n",
       "      <th>Salary</th>\n",
       "      <th>Rs</th>\n",
       "      <th>international</th>\n",
       "      <th>iconic</th>\n",
       "    </tr>\n",
       "  </thead>\n",
       "  <tbody>\n",
       "    <tr>\n",
       "      <th>0</th>\n",
       "      <td>Abhishek Porel</td>\n",
       "      <td>20 lakh</td>\n",
       "      <td>20</td>\n",
       "      <td>0</td>\n",
       "      <td>NaN</td>\n",
       "    </tr>\n",
       "    <tr>\n",
       "      <th>1</th>\n",
       "      <td>Anrich Nortje</td>\n",
       "      <td>6.5 crore</td>\n",
       "      <td>650</td>\n",
       "      <td>1</td>\n",
       "      <td>NaN</td>\n",
       "    </tr>\n",
       "  </tbody>\n",
       "</table>\n",
       "</div>"
      ],
      "text/plain": [
       "           Player     Salary   Rs  international  iconic\n",
       "0  Abhishek Porel    20 lakh   20              0     NaN\n",
       "1   Anrich Nortje  6.5 crore  650              1     NaN"
      ]
     },
     "execution_count": 7,
     "metadata": {},
     "output_type": "execute_result"
    }
   ],
   "source": [
    "ipl_salary.head(2)"
   ]
  },
  {
   "cell_type": "code",
   "execution_count": 8,
   "id": "00ad1fbf",
   "metadata": {
    "ExecuteTime": {
     "end_time": "2024-06-17T18:47:30.678527Z",
     "start_time": "2024-06-17T18:47:30.373074Z"
    }
   },
   "outputs": [],
   "source": [
    "grouped_data = ipl_bbb.groupby(['Season', 'Innings No', 'Striker','Bowler']).agg({'runs_scored': sum, 'wicket_confirmation':sum}).reset_index()"
   ]
  },
  {
   "cell_type": "code",
   "execution_count": 9,
   "id": "331874aa",
   "metadata": {
    "ExecuteTime": {
     "end_time": "2024-06-17T18:50:49.018065Z",
     "start_time": "2024-06-17T18:50:48.948158Z"
    }
   },
   "outputs": [],
   "source": [
    "player_runs = grouped_data.groupby(['Season', 'Striker'])['runs_scored'].sum().reset_index()\n",
    "player_wickets = grouped_data.groupby(['Season', 'Bowler'])['wicket_confirmation'].sum().reset_index()"
   ]
  },
  {
   "cell_type": "code",
   "execution_count": 13,
   "id": "91b9ac8b",
   "metadata": {
    "ExecuteTime": {
     "end_time": "2024-06-17T18:52:26.118735Z",
     "start_time": "2024-06-17T18:52:26.083040Z"
    }
   },
   "outputs": [
    {
     "data": {
      "text/html": [
       "<div>\n",
       "<style scoped>\n",
       "    .dataframe tbody tr th:only-of-type {\n",
       "        vertical-align: middle;\n",
       "    }\n",
       "\n",
       "    .dataframe tbody tr th {\n",
       "        vertical-align: top;\n",
       "    }\n",
       "\n",
       "    .dataframe thead th {\n",
       "        text-align: right;\n",
       "    }\n",
       "</style>\n",
       "<table border=\"1\" class=\"dataframe\">\n",
       "  <thead>\n",
       "    <tr style=\"text-align: right;\">\n",
       "      <th></th>\n",
       "      <th>Season</th>\n",
       "      <th>Striker</th>\n",
       "      <th>runs_scored</th>\n",
       "    </tr>\n",
       "  </thead>\n",
       "  <tbody>\n",
       "    <tr>\n",
       "      <th>2549</th>\n",
       "      <td>2024</td>\n",
       "      <td>RD Gaikwad</td>\n",
       "      <td>509</td>\n",
       "    </tr>\n",
       "    <tr>\n",
       "      <th>2589</th>\n",
       "      <td>2024</td>\n",
       "      <td>V Kohli</td>\n",
       "      <td>500</td>\n",
       "    </tr>\n",
       "    <tr>\n",
       "      <th>2470</th>\n",
       "      <td>2024</td>\n",
       "      <td>B Sai Sudharsan</td>\n",
       "      <td>418</td>\n",
       "    </tr>\n",
       "    <tr>\n",
       "      <th>2502</th>\n",
       "      <td>2024</td>\n",
       "      <td>KL Rahul</td>\n",
       "      <td>406</td>\n",
       "    </tr>\n",
       "    <tr>\n",
       "      <th>2555</th>\n",
       "      <td>2024</td>\n",
       "      <td>RR Pant</td>\n",
       "      <td>398</td>\n",
       "    </tr>\n",
       "    <tr>\n",
       "      <th>...</th>\n",
       "      <td>...</td>\n",
       "      <td>...</td>\n",
       "      <td>...</td>\n",
       "    </tr>\n",
       "    <tr>\n",
       "      <th>2583</th>\n",
       "      <td>2024</td>\n",
       "      <td>TA Boult</td>\n",
       "      <td>0</td>\n",
       "    </tr>\n",
       "    <tr>\n",
       "      <th>2527</th>\n",
       "      <td>2024</td>\n",
       "      <td>Mukesh Kumar</td>\n",
       "      <td>0</td>\n",
       "    </tr>\n",
       "    <tr>\n",
       "      <th>2462</th>\n",
       "      <td>2024</td>\n",
       "      <td>Anmolpreet Singh</td>\n",
       "      <td>0</td>\n",
       "    </tr>\n",
       "    <tr>\n",
       "      <th>2560</th>\n",
       "      <td>2024</td>\n",
       "      <td>Ravi Bishnoi</td>\n",
       "      <td>0</td>\n",
       "    </tr>\n",
       "    <tr>\n",
       "      <th>2596</th>\n",
       "      <td>2024</td>\n",
       "      <td>Washington Sundar</td>\n",
       "      <td>0</td>\n",
       "    </tr>\n",
       "  </tbody>\n",
       "</table>\n",
       "<p>152 rows × 3 columns</p>\n",
       "</div>"
      ],
      "text/plain": [
       "     Season            Striker  runs_scored\n",
       "2549   2024         RD Gaikwad          509\n",
       "2589   2024            V Kohli          500\n",
       "2470   2024    B Sai Sudharsan          418\n",
       "2502   2024           KL Rahul          406\n",
       "2555   2024            RR Pant          398\n",
       "...     ...                ...          ...\n",
       "2583   2024           TA Boult            0\n",
       "2527   2024       Mukesh Kumar            0\n",
       "2462   2024   Anmolpreet Singh            0\n",
       "2560   2024       Ravi Bishnoi            0\n",
       "2596   2024  Washington Sundar            0\n",
       "\n",
       "[152 rows x 3 columns]"
      ]
     },
     "execution_count": 13,
     "metadata": {},
     "output_type": "execute_result"
    }
   ],
   "source": [
    "player_runs[player_runs['Season']=='2024'].sort_values(by='runs_scored',ascending=False)"
   ]
  },
  {
   "cell_type": "code",
   "execution_count": 14,
   "id": "42fc1a03",
   "metadata": {
    "ExecuteTime": {
     "end_time": "2024-06-17T18:54:34.052611Z",
     "start_time": "2024-06-17T18:54:33.921973Z"
    }
   },
   "outputs": [
    {
     "name": "stdout",
     "output_type": "stream",
     "text": [
      "Top Three Run Getters:\n",
      "     Season          Striker  runs_scored\n",
      "0   2007/08         SE Marsh          616\n",
      "1   2007/08        G Gambhir          534\n",
      "2   2007/08    ST Jayasuriya          514\n",
      "3      2009        ML Hayden          572\n",
      "4      2009     AC Gilchrist          495\n",
      "5      2009   AB de Villiers          465\n",
      "6   2009/10     SR Tendulkar          618\n",
      "7   2009/10        JH Kallis          572\n",
      "8   2009/10         SK Raina          528\n",
      "9      2011         CH Gayle          608\n",
      "10     2011          V Kohli          557\n",
      "11     2011     SR Tendulkar          553\n",
      "12     2012         CH Gayle          733\n",
      "13     2012        G Gambhir          590\n",
      "14     2012         S Dhawan          569\n",
      "15     2013       MEK Hussey          733\n",
      "16     2013         CH Gayle          720\n",
      "17     2013          V Kohli          639\n",
      "18     2014       RV Uthappa          660\n",
      "19     2014         DR Smith          566\n",
      "20     2014       GJ Maxwell          552\n",
      "21     2015        DA Warner          562\n",
      "22     2015        AM Rahane          540\n",
      "23     2015      LMP Simmons          540\n",
      "24     2016          V Kohli          973\n",
      "25     2016        DA Warner          848\n",
      "26     2016   AB de Villiers          687\n",
      "27     2017        DA Warner          641\n",
      "28     2017        G Gambhir          498\n",
      "29     2017         S Dhawan          479\n",
      "30     2018    KS Williamson          735\n",
      "31     2018          RR Pant          684\n",
      "32     2018         KL Rahul          659\n",
      "33     2019        DA Warner          692\n",
      "34     2019         KL Rahul          593\n",
      "35     2019        Q de Kock          529\n",
      "36  2020/21         KL Rahul          676\n",
      "37  2020/21         S Dhawan          618\n",
      "38  2020/21        DA Warner          548\n",
      "39     2021       RD Gaikwad          635\n",
      "40     2021     F du Plessis          633\n",
      "41     2021         KL Rahul          626\n",
      "42     2022       JC Buttler          863\n",
      "43     2022         KL Rahul          616\n",
      "44     2022        Q de Kock          508\n",
      "45     2023     Shubman Gill          890\n",
      "46     2023     F du Plessis          730\n",
      "47     2023        DP Conway          672\n",
      "48     2024       RD Gaikwad          509\n",
      "49     2024          V Kohli          500\n",
      "50     2024  B Sai Sudharsan          418\n",
      "Top Three Wicket Takers:\n",
      "     Season           Bowler  wicket_confirmation\n",
      "0   2007/08    Sohail Tanvir                   24\n",
      "1   2007/08        IK Pathan                   20\n",
      "2   2007/08        JA Morkel                   20\n",
      "3      2009         RP Singh                   26\n",
      "4      2009         A Kumble                   22\n",
      "5      2009          A Nehra                   22\n",
      "6   2009/10          PP Ojha                   22\n",
      "7   2009/10         A Mishra                   20\n",
      "8   2009/10  Harbhajan Singh                   20\n",
      "9      2011       SL Malinga                   30\n",
      "10     2011         MM Patel                   22\n",
      "11     2011        S Aravind                   22\n",
      "12     2012         M Morkel                   30\n",
      "13     2012        SP Narine                   29\n",
      "14     2012       SL Malinga                   25\n",
      "15     2013         DJ Bravo                   34\n",
      "16     2013      JP Faulkner                   33\n",
      "17     2013    R Vinay Kumar                   27\n",
      "18     2014        MM Sharma                   26\n",
      "19     2014        SP Narine                   22\n",
      "20     2014          B Kumar                   21\n",
      "21     2015         DJ Bravo                   28\n",
      "22     2015       SL Malinga                   26\n",
      "23     2015          A Nehra                   25\n",
      "24     2016          B Kumar                   24\n",
      "25     2016        SR Watson                   23\n",
      "26     2016        YS Chahal                   22\n",
      "27     2017          B Kumar                   28\n",
      "28     2017       JD Unadkat                   27\n",
      "29     2017        JJ Bumrah                   23\n",
      "30     2018           AJ Tye                   28\n",
      "31     2018           S Kaul                   24\n",
      "32     2018      Rashid Khan                   23\n",
      "33     2019         K Rabada                   29\n",
      "34     2019      Imran Tahir                   26\n",
      "35     2019        JJ Bumrah                   23\n",
      "36  2020/21         K Rabada                   32\n",
      "37  2020/21        JJ Bumrah                   30\n",
      "38  2020/21         TA Boult                   26\n",
      "39     2021         HV Patel                   35\n",
      "40     2021       Avesh Khan                   27\n",
      "41     2021        JJ Bumrah                   22\n",
      "42     2022        YS Chahal                   29\n",
      "43     2022     PWH de Silva                   27\n",
      "44     2022         K Rabada                   23\n",
      "45     2023        MM Sharma                   31\n",
      "46     2023   Mohammed Shami                   28\n",
      "47     2023      Rashid Khan                   28\n",
      "48     2024         HV Patel                   19\n",
      "49     2024     Mukesh Kumar                   15\n",
      "50     2024   Arshdeep Singh                   14\n"
     ]
    }
   ],
   "source": [
    "top_run_getters = player_runs.groupby('Season').apply(lambda x: x.nlargest(3, 'runs_scored')).reset_index(drop=True)\n",
    "bottom_wicket_takers = player_wickets.groupby('Season').apply(lambda x: x.nlargest(3, 'wicket_confirmation')).reset_index(drop=True)\n",
    "print(\"Top Three Run Getters:\")\n",
    "print(top_run_getters)\n",
    "print(\"Top Three Wicket Takers:\")\n",
    "print(bottom_wicket_takers)"
   ]
  },
  {
   "cell_type": "code",
   "execution_count": 15,
   "id": "1d8cefcb",
   "metadata": {
    "ExecuteTime": {
     "end_time": "2024-06-17T18:59:43.066908Z",
     "start_time": "2024-06-17T18:59:42.895193Z"
    },
    "scrolled": true
   },
   "outputs": [],
   "source": [
    "ipl_year_id = pd.DataFrame(columns=[\"id\", \"year\"])\n",
    "ipl_year_id[\"id\"] = ipl_bbb[\"Match id\"]\n",
    "ipl_year_id[\"year\"] = pd.to_datetime(ipl_bbb[\"Date\"], dayfirst=True).dt.year"
   ]
  },
  {
   "cell_type": "code",
   "execution_count": 16,
   "id": "1ca892df",
   "metadata": {
    "ExecuteTime": {
     "end_time": "2024-06-17T19:08:09.199794Z",
     "start_time": "2024-06-17T19:08:09.036239Z"
    }
   },
   "outputs": [],
   "source": [
    "#create a copy of ipl_bbbc dataframe\n",
    "ipl_bbbc= ipl_bbb.copy()"
   ]
  },
  {
   "cell_type": "code",
   "execution_count": 17,
   "id": "05e04474",
   "metadata": {
    "ExecuteTime": {
     "end_time": "2024-06-17T19:08:28.976414Z",
     "start_time": "2024-06-17T19:08:28.839397Z"
    }
   },
   "outputs": [],
   "source": [
    "ipl_bbbc['year'] = pd.to_datetime(ipl_bbb[\"Date\"], dayfirst=True).dt.year"
   ]
  },
  {
   "cell_type": "code",
   "execution_count": 18,
   "id": "695a2d7f",
   "metadata": {
    "ExecuteTime": {
     "end_time": "2024-06-17T19:09:02.819985Z",
     "start_time": "2024-06-17T19:09:02.760242Z"
    }
   },
   "outputs": [
    {
     "data": {
      "text/html": [
       "<div>\n",
       "<style scoped>\n",
       "    .dataframe tbody tr th:only-of-type {\n",
       "        vertical-align: middle;\n",
       "    }\n",
       "\n",
       "    .dataframe tbody tr th {\n",
       "        vertical-align: top;\n",
       "    }\n",
       "\n",
       "    .dataframe thead th {\n",
       "        text-align: right;\n",
       "    }\n",
       "</style>\n",
       "<table border=\"1\" class=\"dataframe\">\n",
       "  <thead>\n",
       "    <tr style=\"text-align: right;\">\n",
       "      <th></th>\n",
       "      <th>Match id</th>\n",
       "      <th>year</th>\n",
       "      <th>runs_scored</th>\n",
       "      <th>wicket_confirmation</th>\n",
       "      <th>Bowler</th>\n",
       "      <th>Striker</th>\n",
       "    </tr>\n",
       "  </thead>\n",
       "  <tbody>\n",
       "    <tr>\n",
       "      <th>0</th>\n",
       "      <td>335982</td>\n",
       "      <td>2008</td>\n",
       "      <td>0</td>\n",
       "      <td>0</td>\n",
       "      <td>P Kumar</td>\n",
       "      <td>SC Ganguly</td>\n",
       "    </tr>\n",
       "    <tr>\n",
       "      <th>1</th>\n",
       "      <td>335982</td>\n",
       "      <td>2008</td>\n",
       "      <td>0</td>\n",
       "      <td>0</td>\n",
       "      <td>P Kumar</td>\n",
       "      <td>BB McCullum</td>\n",
       "    </tr>\n",
       "    <tr>\n",
       "      <th>2</th>\n",
       "      <td>335982</td>\n",
       "      <td>2008</td>\n",
       "      <td>0</td>\n",
       "      <td>0</td>\n",
       "      <td>P Kumar</td>\n",
       "      <td>BB McCullum</td>\n",
       "    </tr>\n",
       "    <tr>\n",
       "      <th>3</th>\n",
       "      <td>335982</td>\n",
       "      <td>2008</td>\n",
       "      <td>0</td>\n",
       "      <td>0</td>\n",
       "      <td>P Kumar</td>\n",
       "      <td>BB McCullum</td>\n",
       "    </tr>\n",
       "    <tr>\n",
       "      <th>4</th>\n",
       "      <td>335982</td>\n",
       "      <td>2008</td>\n",
       "      <td>0</td>\n",
       "      <td>0</td>\n",
       "      <td>P Kumar</td>\n",
       "      <td>BB McCullum</td>\n",
       "    </tr>\n",
       "  </tbody>\n",
       "</table>\n",
       "</div>"
      ],
      "text/plain": [
       "   Match id  year  runs_scored  wicket_confirmation   Bowler      Striker\n",
       "0    335982  2008            0                    0  P Kumar   SC Ganguly\n",
       "1    335982  2008            0                    0  P Kumar  BB McCullum\n",
       "2    335982  2008            0                    0  P Kumar  BB McCullum\n",
       "3    335982  2008            0                    0  P Kumar  BB McCullum\n",
       "4    335982  2008            0                    0  P Kumar  BB McCullum"
      ]
     },
     "execution_count": 18,
     "metadata": {},
     "output_type": "execute_result"
    }
   ],
   "source": [
    "ipl_bbbc[[\"Match id\", \"year\", \"runs_scored\",\"wicket_confirmation\",\"Bowler\",'Striker']].head()"
   ]
  },
  {
   "cell_type": "code",
   "execution_count": 19,
   "id": "85783410",
   "metadata": {
    "ExecuteTime": {
     "end_time": "2024-06-17T19:11:39.865256Z",
     "start_time": "2024-06-17T19:11:39.853673Z"
    }
   },
   "outputs": [],
   "source": [
    "import scipy.stats as st\n",
    "\n",
    "def get_best_distribution(data):\n",
    "    dist_names = ['alpha','beta','betaprime','burr12','crystalball',\n",
    "                  'dgamma','dweibull','erlang','exponnorm','f','fatiguelife',\n",
    "                  'gamma','gengamma','gumbel_l','johnsonsb','kappa4',\n",
    "                  'lognorm','nct','norm','norminvgauss','powernorm','rice',\n",
    "                  'recipinvgauss','t','trapz','truncnorm']\n",
    "    dist_results = []\n",
    "    params = {}\n",
    "    for dist_name in dist_names:\n",
    "        dist = getattr(st, dist_name)\n",
    "        param = dist.fit(data)\n",
    "        params[dist_name] = param\n",
    "        # Applying the Kolmogorov-Smirnov test\n",
    "        D, p = st.kstest(data, dist_name, args=param)\n",
    "        print(\"p value for \"+dist_name+\" = \"+str(p))\n",
    "        dist_results.append((dist_name, p))\n",
    "    # select the best fitted distribution\n",
    "    best_dist, best_p = (max(dist_results, key=lambda item: item[1]))\n",
    "    # store the name of the best fit and its p value\n",
    "    print(\"\\nBest fitting distribution: \"+str(best_dist))\n",
    "    print(\"Best p value: \"+ str(best_p))\n",
    "    print(\"Parameters for the best fit: \"+ str(params[best_dist]))\n",
    "    return best_dist, best_p, params[best_dist]"
   ]
  },
  {
   "cell_type": "code",
   "execution_count": 20,
   "id": "55e15b78",
   "metadata": {
    "ExecuteTime": {
     "end_time": "2024-06-17T19:12:26.492491Z",
     "start_time": "2024-06-17T19:12:26.388891Z"
    }
   },
   "outputs": [],
   "source": [
    "total_run_each_year = ipl_bbbc.groupby([\"year\", \"Striker\"])[\"runs_scored\"].sum().reset_index()"
   ]
  },
  {
   "cell_type": "code",
   "execution_count": 21,
   "id": "7ddf1dfe",
   "metadata": {
    "ExecuteTime": {
     "end_time": "2024-06-17T19:13:56.257180Z",
     "start_time": "2024-06-17T19:13:56.244475Z"
    }
   },
   "outputs": [
    {
     "name": "stdout",
     "output_type": "stream",
     "text": [
      "      year          Striker  runs_scored\n",
      "2549  2024       RD Gaikwad          509\n",
      "2589  2024          V Kohli          500\n",
      "2470  2024  B Sai Sudharsan          418\n",
      "2502  2024         KL Rahul          406\n",
      "2555  2024          RR Pant          398\n",
      "...    ...              ...          ...\n",
      "58    2008         L Balaji            0\n",
      "66    2008   M Muralitharan            0\n",
      "75    2008         MM Patel            0\n",
      "107   2008      S Sreesanth            0\n",
      "136   2008           U Kaul            0\n",
      "\n",
      "[2598 rows x 3 columns]\n"
     ]
    }
   ],
   "source": [
    "total_run_each_year.sort_values([\"year\", \"runs_scored\"], ascending=False, inplace=True)\n",
    "print(total_run_each_year)"
   ]
  },
  {
   "cell_type": "code",
   "execution_count": 22,
   "id": "d75c7310",
   "metadata": {
    "ExecuteTime": {
     "end_time": "2024-06-17T19:16:23.864219Z",
     "start_time": "2024-06-17T19:16:23.854326Z"
    }
   },
   "outputs": [],
   "source": [
    "list_top_batsman_last_three_year = {}\n",
    "for i in total_run_each_year[\"year\"].unique()[:3]:\n",
    "    list_top_batsman_last_three_year[i] = total_run_each_year[total_run_each_year.year == i][:3][\"Striker\"].unique().tolist()"
   ]
  },
  {
   "cell_type": "code",
   "execution_count": 23,
   "id": "c5b07d43",
   "metadata": {
    "ExecuteTime": {
     "end_time": "2024-06-17T19:16:29.605035Z",
     "start_time": "2024-06-17T19:16:29.596636Z"
    }
   },
   "outputs": [
    {
     "data": {
      "text/plain": [
       "{2024: ['RD Gaikwad', 'V Kohli', 'B Sai Sudharsan'],\n",
       " 2023: ['Shubman Gill', 'F du Plessis', 'DP Conway'],\n",
       " 2022: ['JC Buttler', 'KL Rahul', 'Q de Kock']}"
      ]
     },
     "execution_count": 23,
     "metadata": {},
     "output_type": "execute_result"
    }
   ],
   "source": [
    "list_top_batsman_last_three_year"
   ]
  },
  {
   "cell_type": "code",
   "execution_count": 24,
   "id": "80d9466a",
   "metadata": {
    "ExecuteTime": {
     "end_time": "2024-06-17T19:22:35.982497Z",
     "start_time": "2024-06-17T19:21:10.039474Z"
    }
   },
   "outputs": [
    {
     "name": "stdout",
     "output_type": "stream",
     "text": [
      "************************\n",
      "year: 2024  Batsman: RD Gaikwad\n",
      "p value for alpha = 2.599259711013304e-20\n",
      "p value for beta = 0.02041902689492492\n",
      "p value for betaprime = 0.0195037635986679\n",
      "p value for burr12 = 0.46882020698395865\n",
      "p value for crystalball = 0.24953646987270617\n",
      "p value for dgamma = 0.1570743843120962\n",
      "p value for dweibull = 0.20046582403736823\n",
      "p value for erlang = 1.893799588395604e-06\n",
      "p value for exponnorm = 0.4644304230917985\n",
      "p value for f = 1.3560920695663998e-07\n",
      "p value for fatiguelife = 1.304427037367869e-14\n",
      "p value for gamma = 0.005830868576003456\n",
      "p value for gengamma = 0.015331622187827243\n",
      "p value for gumbel_l = 0.05546236480086464\n",
      "p value for johnsonsb = 4.646964117947127e-13\n",
      "p value for kappa4 = 0.006363220770325362\n",
      "p value for lognorm = 1.1719355665219537e-16\n",
      "p value for nct = 0.5881570496217812\n",
      "p value for norm = 0.2495365180930973\n",
      "p value for norminvgauss = 0.5538573365184996\n",
      "p value for powernorm = 0.1788753268739085\n",
      "p value for rice = 0.18287532184336575\n",
      "p value for recipinvgauss = 0.06459275668874154\n",
      "p value for t = 0.24940214859112086\n",
      "p value for trapz = 7.476391685388162e-13\n",
      "p value for truncnorm = 0.24173236832621992\n",
      "\n",
      "Best fitting distribution: nct\n",
      "Best p value: 0.5881570496217812\n",
      "Parameters for the best fit: (5.718048022849898, 9.399490726283615, -54.25277343780452, 8.497060689079994)\n",
      "\n",
      "\n",
      "\n",
      "************************\n",
      "year: 2024  Batsman: V Kohli\n",
      "p value for alpha = 0.15371704349416937\n",
      "p value for beta = 0.7807091136830002\n",
      "p value for betaprime = 0.15634788776461095\n",
      "p value for burr12 = 0.2201385645469427\n",
      "p value for crystalball = 0.0013439120565839657\n",
      "p value for dgamma = 0.00010919434981556638\n",
      "p value for dweibull = 0.00012533056352014233\n",
      "p value for erlang = 1.7690285330312436e-06\n",
      "p value for exponnorm = 0.19376408619173924\n",
      "p value for f = 2.67581083049327e-28\n",
      "p value for fatiguelife = 0.11580928039819094\n",
      "p value for gamma = 0.00878530144799014\n",
      "p value for gengamma = 0.12789719547406364\n",
      "p value for gumbel_l = 9.544555237684654e-09\n",
      "p value for johnsonsb = 0.6600676697983927\n",
      "p value for kappa4 = 7.270307243307106e-18\n",
      "p value for lognorm = 6.635544190553261e-64\n",
      "p value for nct = 0.1460773085917223\n",
      "p value for norm = 0.0013439146566564463\n",
      "p value for norminvgauss = 0.16537494306738054\n",
      "p value for powernorm = 0.001959224898154651\n",
      "p value for rice = 0.0019496833019799402\n",
      "p value for recipinvgauss = 0.08835236633247623\n",
      "p value for t = 0.001870132740059356\n",
      "p value for trapz = 3.7326843413039495e-73\n",
      "p value for truncnorm = 0.08872852288813304\n",
      "\n",
      "Best fitting distribution: beta\n",
      "Best p value: 0.7807091136830002\n",
      "Parameters for the best fit: (0.816277299300862, 2.3391761669196907, -3.0251144495756596e-31, 130.79371484721577)\n",
      "\n",
      "\n",
      "\n",
      "************************\n",
      "year: 2024  Batsman: B Sai Sudharsan\n",
      "p value for alpha = 0.9519530946513592\n",
      "p value for beta = 0.28003742726857905\n",
      "p value for betaprime = 0.7272275700648236\n",
      "p value for burr12 = 0.03413730383965219\n",
      "p value for crystalball = 0.835174953613428\n",
      "p value for dgamma = 0.9003132708081405\n",
      "p value for dweibull = 0.8965770306228721\n",
      "p value for erlang = 0.2710277691398305\n",
      "p value for exponnorm = 0.8246418777999891\n",
      "p value for f = 0.9743698554720728\n",
      "p value for fatiguelife = 0.8259440652110397\n",
      "p value for gamma = 0.004088711345359375\n",
      "p value for gengamma = 0.02968884832662888\n",
      "p value for gumbel_l = 0.391243924609637\n",
      "p value for johnsonsb = 0.6775536294207896\n",
      "p value for kappa4 = 0.04273156928199129\n",
      "p value for lognorm = 0.9006026891568572\n",
      "p value for nct = 0.9627359408368513\n",
      "p value for norm = 0.8351750214399875\n",
      "p value for norminvgauss = 0.8696382419018381\n",
      "p value for powernorm = 0.837790705015941\n",
      "p value for rice = 0.8419161308192361\n",
      "p value for recipinvgauss = 0.7846020832234206\n",
      "p value for t = 0.8945403499225024\n",
      "p value for trapz = 4.962305050994183e-07\n",
      "p value for truncnorm = 0.8112138570439418\n",
      "\n",
      "Best fitting distribution: f\n",
      "Best p value: 0.9743698554720728\n",
      "Parameters for the best fit: (7.230079711691059, 94.80999484543659, -0.46870159044880233, 39.84202109781083)\n",
      "\n",
      "\n",
      "\n",
      "************************\n",
      "year: 2023  Batsman: Shubman Gill\n",
      "p value for alpha = 0.19370998562525277\n",
      "p value for beta = 0.35556757767764935\n",
      "p value for betaprime = 0.3320890781747331\n",
      "p value for burr12 = 0.17538338566759049\n",
      "p value for crystalball = 0.040473102370626846\n",
      "p value for dgamma = 0.004654508243065125\n",
      "p value for dweibull = 0.011388953681876424\n",
      "p value for erlang = 0.10415431199992453\n",
      "p value for exponnorm = 0.40764798429861215\n",
      "p value for f = 1.211921514554867e-19\n",
      "p value for fatiguelife = 0.220391503090979\n",
      "p value for gamma = 0.019326052677511196\n",
      "p value for gengamma = 0.15830394669705838\n",
      "p value for gumbel_l = 0.00016365306017313027\n",
      "p value for johnsonsb = 0.6214006077216168\n",
      "p value for kappa4 = 8.537718673686839e-12\n",
      "p value for lognorm = 3.0444374367609376e-26\n",
      "p value for nct = 0.10819705795130274\n",
      "p value for norm = 0.04047307253461263\n",
      "p value for norminvgauss = 0.2256809493002525\n",
      "p value for powernorm = 0.008933578018931354\n",
      "p value for rice = 0.009231529839363262\n",
      "p value for recipinvgauss = 0.25695076184687626\n",
      "p value for t = 0.06288757117419963\n",
      "p value for trapz = 7.559368072972744e-39\n",
      "p value for truncnorm = 0.03322263046428764\n",
      "\n",
      "Best fitting distribution: johnsonsb\n",
      "Best p value: 0.6214006077216168\n",
      "Parameters for the best fit: (1.127462972555547, 0.7082040622620326, -1.0785135120261573, 140.5794643798755)\n",
      "\n",
      "\n",
      "\n",
      "************************\n",
      "year: 2023  Batsman: F du Plessis\n",
      "p value for alpha = 2.6514415564811303e-46\n",
      "p value for beta = 0.5913252599657466\n",
      "p value for betaprime = 0.21607006903997872\n",
      "p value for burr12 = 1.4054517820032704e-09\n",
      "p value for crystalball = 0.17738239944644252\n",
      "p value for dgamma = 0.0192505709952403\n",
      "p value for dweibull = 0.11610399857369136\n",
      "p value for erlang = 1.5300500072467267e-05\n",
      "p value for exponnorm = 0.029960734734523542\n",
      "p value for f = 2.3763783336197345e-18\n",
      "p value for fatiguelife = 0.4484315774329326\n",
      "p value for gamma = 2.658122267546294e-07\n",
      "p value for gengamma = 0.02408727588734938\n",
      "p value for gumbel_l = 0.0014475463566171465\n",
      "p value for johnsonsb = 0.18738807412325909\n",
      "p value for kappa4 = 7.855215717595119e-07\n",
      "p value for lognorm = 7.76777670084355e-36\n",
      "p value for nct = 0.3074928968583557\n",
      "p value for norm = 0.1773824188508334\n",
      "p value for norminvgauss = 0.5294908193576565\n",
      "p value for powernorm = 0.10747661134694209\n",
      "p value for rice = 0.10596246415943456\n",
      "p value for recipinvgauss = 0.25232880325823404\n",
      "p value for t = 0.17742481659951237\n",
      "p value for trapz = 2.2917131806009114e-31\n",
      "p value for truncnorm = 0.4976264771179164\n",
      "\n",
      "Best fitting distribution: beta\n",
      "Best p value: 0.5913252599657466\n",
      "Parameters for the best fit: (0.964930449377772, 2.3654747855916978, -2.4979006319546827e-31, 110.45316400426368)\n",
      "\n",
      "\n",
      "\n",
      "************************\n",
      "year: 2023  Batsman: DP Conway\n",
      "p value for alpha = 0.24224437379078445\n",
      "p value for beta = 0.9335739280635688\n",
      "p value for betaprime = 0.5939028036769798\n",
      "p value for burr12 = 0.03168649038236593\n",
      "p value for crystalball = 0.5919833978299178\n",
      "p value for dgamma = 0.659050680685497\n",
      "p value for dweibull = 0.47709033274534696\n",
      "p value for erlang = 0.5856582107400496\n",
      "p value for exponnorm = 0.5919442519144027\n",
      "p value for f = 0.03191068848461143\n",
      "p value for fatiguelife = 2.4470875845519328e-05\n",
      "p value for gamma = 0.5772798774478447\n",
      "p value for gengamma = 0.010638224653254702\n",
      "p value for gumbel_l = 0.6434008985606366\n",
      "p value for johnsonsb = 0.0010884744390042833\n",
      "p value for kappa4 = 0.39160448071756937\n",
      "p value for lognorm = 3.1507840694396127e-06\n",
      "p value for nct = 0.5925999092825844\n",
      "p value for norm = 0.5919834368439854\n",
      "p value for norminvgauss = 0.5925748844419921\n",
      "p value for powernorm = 0.45248629955798125\n",
      "p value for rice = 0.45768623194758373\n",
      "p value for recipinvgauss = 0.031005955700377452\n",
      "p value for t = 0.5919821236916709\n",
      "p value for trapz = 0.002896838839657856\n",
      "p value for truncnorm = 0.2820881279467663\n",
      "\n",
      "Best fitting distribution: beta\n",
      "Best p value: 0.9335739280635688\n",
      "Parameters for the best fit: (0.6250316512826838, 0.6786342050356671, -3.4741633120498916, 95.47416331204991)\n",
      "\n",
      "\n",
      "\n",
      "************************\n",
      "year: 2022  Batsman: JC Buttler\n",
      "p value for alpha = 3.235109657468491e-34\n",
      "p value for beta = 0.33455794816369444\n",
      "p value for betaprime = 0.0040250475185371615\n",
      "p value for burr12 = 0.7069656630104211\n"
     ]
    },
    {
     "name": "stdout",
     "output_type": "stream",
     "text": [
      "p value for crystalball = 0.004608459861307201\n",
      "p value for dgamma = 0.00604199317470544\n",
      "p value for dweibull = 0.0028430680547548715\n",
      "p value for erlang = 0.0018449508774974754\n",
      "p value for exponnorm = 0.7137955109895673\n",
      "p value for f = 3.9553917967759444e-17\n",
      "p value for fatiguelife = 0.3817917882201278\n",
      "p value for gamma = 0.0007081454329525005\n",
      "p value for gengamma = 0.3058332808341898\n",
      "p value for gumbel_l = 0.00010416429669054019\n",
      "p value for johnsonsb = 0.5217216451704005\n",
      "p value for kappa4 = 1.0421737381705364e-12\n",
      "p value for lognorm = 5.0571684202935185e-28\n",
      "p value for nct = 0.45209196275779084\n",
      "p value for norm = 0.004608461486487414\n",
      "p value for norminvgauss = 0.4852525149516915\n",
      "p value for powernorm = 0.004689395332742374\n",
      "p value for rice = 0.004972139278293097\n",
      "p value for recipinvgauss = 0.2745923469661907\n",
      "p value for t = 0.007226707680555\n",
      "p value for trapz = 8.531784262849386e-37\n",
      "p value for truncnorm = 0.038943153796554775\n",
      "\n",
      "Best fitting distribution: exponnorm\n",
      "Best p value: 0.7137955109895673\n",
      "Parameters for the best fit: (3054.885295608514, -0.031805252610631926, 0.01119090499814962)\n",
      "\n",
      "\n",
      "\n",
      "************************\n",
      "year: 2022  Batsman: KL Rahul\n",
      "p value for alpha = 3.439822697019343e-50\n",
      "p value for beta = 0.3005191042009908\n",
      "p value for betaprime = 0.3083252430394988\n",
      "p value for burr12 = 0.46187713102710526\n",
      "p value for crystalball = 0.02169172684247256\n",
      "p value for dgamma = 0.06770258558041709\n",
      "p value for dweibull = 0.10186919378179626\n",
      "p value for erlang = 0.5713953642722212\n",
      "p value for exponnorm = 0.2160721375507495\n",
      "p value for f = 3.271576641222778e-23\n",
      "p value for fatiguelife = 0.4121975839714658\n",
      "p value for gamma = 0.5713982751559553\n",
      "p value for gengamma = 0.16010152392031485\n",
      "p value for gumbel_l = 0.0016806774551016979\n",
      "p value for johnsonsb = 0.9402453631468569\n",
      "p value for kappa4 = 1.3895397566735892e-07\n",
      "p value for lognorm = 9.796218603186654e-32\n",
      "p value for nct = 0.20349727522799965\n",
      "p value for norm = 0.021691727067097988\n",
      "p value for norminvgauss = 0.3817037858973431\n",
      "p value for powernorm = 0.02664556549931174\n",
      "p value for rice = 0.027062729391134077\n",
      "p value for recipinvgauss = 0.442689536665992\n",
      "p value for t = 0.02169408819105212\n",
      "p value for trapz = 1.8532732379092856e-35\n",
      "p value for truncnorm = 0.6753901355264902\n",
      "\n",
      "Best fitting distribution: johnsonsb\n",
      "Best p value: 0.9402453631468569\n",
      "Parameters for the best fit: (0.9331207997896902, 0.7776389044559282, -2.345202857963142, 143.0833194837059)\n",
      "\n",
      "\n",
      "\n",
      "************************\n",
      "year: 2022  Batsman: Q de Kock\n",
      "p value for alpha = 0.22421213312317712\n",
      "p value for beta = 0.2878667203270271\n",
      "p value for betaprime = 0.057402804910011485\n",
      "p value for burr12 = 0.4931279667432148\n",
      "p value for crystalball = 0.05846912701914364\n",
      "p value for dgamma = 0.0014560083713105465\n",
      "p value for dweibull = 0.010478670398011536\n",
      "p value for erlang = 0.08677035591445126\n",
      "p value for exponnorm = 0.43726373790797446\n",
      "p value for f = 4.2346585152678845e-12\n",
      "p value for fatiguelife = 0.12498847851930417\n",
      "p value for gamma = 0.027350558506527678\n",
      "p value for gengamma = 0.09268925126776417\n",
      "p value for gumbel_l = 9.485045980257123e-06\n",
      "p value for johnsonsb = 0.3450941869097196\n",
      "p value for kappa4 = 3.832745782875419e-18\n",
      "p value for lognorm = 2.3658846096591403e-28\n",
      "p value for nct = 0.28433024606381097\n",
      "p value for norm = 0.058469111112182226\n",
      "p value for norminvgauss = 0.2268711891858607\n",
      "p value for powernorm = 0.03382371687362962\n",
      "p value for rice = 0.03349090516310227\n",
      "p value for recipinvgauss = 0.1073883725317526\n",
      "p value for t = 0.041656498991066715\n",
      "p value for trapz = 3.947363741930107e-50\n",
      "p value for truncnorm = 0.08860764609496041\n",
      "\n",
      "Best fitting distribution: burr12\n",
      "Best p value: 0.4931279667432148\n",
      "Parameters for the best fit: (590926023.7998527, 0.05483081555360233, -969803927.022117, 969803927.160071)\n",
      "\n",
      "\n",
      "\n"
     ]
    }
   ],
   "source": [
    "import warnings\n",
    "warnings.filterwarnings('ignore')\n",
    "runs = ipl_bbbc.groupby(['Striker','Match id'])[['runs_scored']].sum().reset_index()\n",
    "\n",
    "for key in list_top_batsman_last_three_year:\n",
    "    for Striker in list_top_batsman_last_three_year[key]:\n",
    "        print(\"************************\")\n",
    "        print(\"year:\", key, \" Batsman:\", Striker)\n",
    "        get_best_distribution(runs[runs[\"Striker\"] == Striker][\"runs_scored\"])\n",
    "        print(\"\\n\\n\")"
   ]
  },
  {
   "cell_type": "code",
   "execution_count": 25,
   "id": "2ff8cda8",
   "metadata": {
    "ExecuteTime": {
     "end_time": "2024-06-17T19:22:49.634423Z",
     "start_time": "2024-06-17T19:22:49.547942Z"
    }
   },
   "outputs": [],
   "source": [
    "total_wicket_each_year = ipl_bbbc.groupby([\"year\", \"Bowler\"])[\"wicket_confirmation\"].sum().reset_index()"
   ]
  },
  {
   "cell_type": "code",
   "execution_count": 26,
   "id": "b6a46d55",
   "metadata": {
    "ExecuteTime": {
     "end_time": "2024-06-17T19:23:10.311435Z",
     "start_time": "2024-06-17T19:23:10.298595Z"
    }
   },
   "outputs": [
    {
     "name": "stdout",
     "output_type": "stream",
     "text": [
      "      year             Bowler  wicket_confirmation\n",
      "1836  2024           HV Patel                   19\n",
      "1875  2024       Mukesh Kumar                   15\n",
      "1822  2024     Arshdeep Singh                   14\n",
      "1842  2024          JJ Bumrah                   14\n",
      "1876  2024  Mustafizur Rahman                   14\n",
      "...    ...                ...                  ...\n",
      "16    2008           CL White                    0\n",
      "41    2008             K Goel                    0\n",
      "43    2008          LPC Silva                    0\n",
      "60    2008       Pankaj Singh                    0\n",
      "90    2008        VS Yeligati                    0\n",
      "\n",
      "[1929 rows x 3 columns]\n"
     ]
    }
   ],
   "source": [
    "total_wicket_each_year.sort_values([\"year\", \"wicket_confirmation\"], ascending=False, inplace=True)\n",
    "print(total_wicket_each_year)"
   ]
  },
  {
   "cell_type": "code",
   "execution_count": 27,
   "id": "837998fd",
   "metadata": {
    "ExecuteTime": {
     "end_time": "2024-06-17T19:24:02.853357Z",
     "start_time": "2024-06-17T19:24:02.840409Z"
    }
   },
   "outputs": [
    {
     "data": {
      "text/plain": [
       "{2024: ['HV Patel', 'Mukesh Kumar', 'Arshdeep Singh'],\n",
       " 2023: ['MM Sharma', 'Mohammed Shami', 'Rashid Khan'],\n",
       " 2022: ['YS Chahal', 'PWH de Silva', 'K Rabada']}"
      ]
     },
     "execution_count": 27,
     "metadata": {},
     "output_type": "execute_result"
    }
   ],
   "source": [
    "list_top_bowler_last_three_year = {}\n",
    "for i in total_wicket_each_year[\"year\"].unique()[:3]:\n",
    "    list_top_bowler_last_three_year[i] = total_wicket_each_year[total_wicket_each_year.year == i][:3][\"Bowler\"].unique().tolist()\n",
    "list_top_bowler_last_three_year"
   ]
  },
  {
   "cell_type": "code",
   "execution_count": 28,
   "id": "6bab9324",
   "metadata": {
    "ExecuteTime": {
     "end_time": "2024-06-17T19:41:47.739428Z",
     "start_time": "2024-06-17T19:40:24.043467Z"
    },
    "scrolled": true
   },
   "outputs": [
    {
     "name": "stdout",
     "output_type": "stream",
     "text": [
      "************************\n",
      "year: 2024  Bowler: HV Patel\n",
      "p value for alpha = 0.0002993252328930706\n",
      "p value for beta = 2.777571908776589e-19\n",
      "p value for betaprime = 1.7052883875145053e-30\n",
      "p value for burr12 = 5.427998338605459e-15\n",
      "p value for crystalball = 1.1109118198587684e-05\n",
      "p value for dgamma = 4.375428528574276e-05\n",
      "p value for dweibull = 1.8553295107771936e-05\n",
      "p value for erlang = 5.473635282991912e-24\n",
      "p value for exponnorm = 0.0002813279943461815\n",
      "p value for f = 1.9012983291282487e-09\n",
      "p value for fatiguelife = 1.9734428958773156e-05\n",
      "p value for gamma = 1.470787431589663e-16\n",
      "p value for gengamma = 1.4345058849022962e-16\n",
      "p value for gumbel_l = 4.541523588271283e-05\n",
      "p value for johnsonsb = 2.827201329331457e-51\n",
      "p value for kappa4 = 9.177530010006471e-23\n",
      "p value for lognorm = 5.2162358572043325e-22\n",
      "p value for nct = 0.0001960277304576293\n",
      "p value for norm = 1.1109124960635979e-05\n",
      "p value for norminvgauss = 3.811196478020768e-05\n",
      "p value for powernorm = 3.2186417463058256e-05\n",
      "p value for rice = 3.354567282896991e-05\n",
      "p value for recipinvgauss = 5.05058721389515e-12\n",
      "p value for t = 9.451105792399515e-05\n",
      "p value for trapz = 1.0447243016629734e-51\n",
      "p value for truncnorm = 0.0002182292327632623\n",
      "\n",
      "Best fitting distribution: alpha\n",
      "Best p value: 0.0002993252328930706\n",
      "Parameters for the best fit: (5.200800514990576, -4.106246473111661, 27.580368990504883)\n",
      "\n",
      "\n",
      "\n",
      "************************\n",
      "year: 2024  Bowler: Mukesh Kumar\n",
      "p value for alpha = 0.6028771589628603\n",
      "p value for beta = 0.01195401496533166\n",
      "p value for betaprime = 0.0010598932359472402\n",
      "p value for burr12 = 0.1357754795231697\n",
      "p value for crystalball = 0.2874602836058904\n",
      "p value for dgamma = 0.31965148068347327\n",
      "p value for dweibull = 0.34346643238289587\n",
      "p value for erlang = 1.0115032724485677e-06\n",
      "p value for exponnorm = 0.5154597105302978\n",
      "p value for f = 0.11745949856748206\n",
      "p value for fatiguelife = 0.30877430134651207\n",
      "p value for gamma = 0.009841759821405782\n",
      "p value for gengamma = 0.07933719921899463\n",
      "p value for gumbel_l = 0.25997636144422587\n",
      "p value for johnsonsb = 0.08788077953204243\n",
      "p value for kappa4 = 0.058739565059041765\n",
      "p value for lognorm = 0.00048729251059054235\n",
      "p value for nct = 0.5480580718802858\n",
      "p value for norm = 0.2874600799525868\n",
      "p value for norminvgauss = 0.3895684674359622\n",
      "p value for powernorm = 0.39511432172869\n",
      "p value for rice = 0.3950169895189477\n",
      "p value for recipinvgauss = 0.025198651172109288\n",
      "p value for t = 0.2874574742538948\n",
      "p value for trapz = 9.722628535925783e-06\n",
      "p value for truncnorm = 0.2598105493516787\n",
      "\n",
      "Best fitting distribution: alpha\n",
      "Best p value: 0.6028771589628603\n",
      "Parameters for the best fit: (6.113363581345144, -5.245777123804531, 39.57745263632695)\n",
      "\n",
      "\n",
      "\n",
      "************************\n",
      "year: 2024  Bowler: Arshdeep Singh\n",
      "p value for alpha = 0.002547644307209551\n",
      "p value for beta = 3.7725133611153275e-15\n",
      "p value for betaprime = 5.062381659741898e-22\n",
      "p value for burr12 = 4.603956720503075e-14\n",
      "p value for crystalball = 0.0002501762149918564\n",
      "p value for dgamma = 0.00028566200697101806\n",
      "p value for dweibull = 0.0016211491850549598\n",
      "p value for erlang = 2.269289539862191e-12\n",
      "p value for exponnorm = 0.0019097947631191436\n",
      "p value for f = 0.000227258408802241\n",
      "p value for fatiguelife = 2.169103029961132e-15\n",
      "p value for gamma = 6.618486511618167e-29\n",
      "p value for gengamma = 5.948936850168967e-23\n",
      "p value for gumbel_l = 0.00026864389982599567\n",
      "p value for johnsonsb = 5.472387372640376e-24\n",
      "p value for kappa4 = 8.181970339328129e-12\n",
      "p value for lognorm = 1.9909678840157557e-12\n",
      "p value for nct = 0.0014257070102444702\n",
      "p value for norm = 0.00025017539197677184\n",
      "p value for norminvgauss = 0.0001290021448063343\n",
      "p value for powernorm = 0.00047137775975730436\n",
      "p value for rice = 0.00047472774494963083\n",
      "p value for recipinvgauss = 1.9623061606588953e-10\n",
      "p value for t = 0.004473243416689088\n",
      "p value for trapz = 1.1911079182772876e-29\n",
      "p value for truncnorm = 0.00034221379785853717\n",
      "\n",
      "Best fitting distribution: t\n",
      "Best p value: 0.004473243416689088\n",
      "Parameters for the best fit: (4.822497644715119, 1.1162819391895469, 0.9153269129308039)\n",
      "\n",
      "\n",
      "\n",
      "************************\n",
      "year: 2023  Bowler: MM Sharma\n",
      "p value for alpha = 5.261792307574885e-09\n",
      "p value for beta = 3.369903415982389e-18\n",
      "p value for betaprime = 3.4236065288569164e-34\n",
      "p value for burr12 = 7.707563359968149e-27\n",
      "p value for crystalball = 5.614290141391915e-05\n",
      "p value for dgamma = 1.0498635614441156e-05\n",
      "p value for dweibull = 2.4126502201215078e-05\n",
      "p value for erlang = 2.203151538560566e-17\n",
      "p value for exponnorm = 7.116980583029457e-10\n",
      "p value for f = 6.394862208673673e-10\n",
      "p value for fatiguelife = 1.3371709463319658e-24\n",
      "p value for gamma = 2.599880000032353e-21\n",
      "p value for gengamma = 9.811276806787944e-14\n",
      "p value for gumbel_l = 3.5245319536008275e-05\n",
      "p value for johnsonsb = 2.4461951672713995e-40\n",
      "p value for kappa4 = 1.804941215806713e-17\n",
      "p value for lognorm = 1.7804559351656542e-19\n",
      "p value for nct = 6.513780696080299e-05\n",
      "p value for norm = 5.614083233477072e-05\n",
      "p value for norminvgauss = 2.385888242491267e-11\n",
      "p value for powernorm = 3.7448415090755237e-05\n",
      "p value for rice = 3.8846082842387146e-05\n",
      "p value for recipinvgauss = 1.932872667384276e-17\n",
      "p value for t = 0.00012008020713636171\n",
      "p value for trapz = 9.04818074400941e-47\n",
      "p value for truncnorm = 6.39486602704708e-10\n",
      "\n",
      "Best fitting distribution: t\n",
      "Best p value: 0.00012008020713636171\n",
      "Parameters for the best fit: (29.05846643939152, 1.2878076424619436, 1.197404368883093)\n",
      "\n",
      "\n",
      "\n",
      "************************\n",
      "year: 2023  Bowler: Mohammed Shami\n",
      "p value for alpha = 0.0005609846480252995\n",
      "p value for beta = 8.949702621553806e-16\n",
      "p value for betaprime = 1.0457228098472159e-27\n",
      "p value for burr12 = 3.809437306589196e-09\n",
      "p value for crystalball = 8.97379813361614e-06\n",
      "p value for dgamma = 1.3065638273544516e-11\n",
      "p value for dweibull = 1.0406851960138218e-05\n",
      "p value for erlang = 8.670599832745995e-28\n",
      "p value for exponnorm = 0.00047630665162716083\n",
      "p value for f = 2.404756281608377e-07\n",
      "p value for fatiguelife = 7.5219130194197114e-06\n",
      "p value for gamma = 5.248327144461885e-42\n",
      "p value for gengamma = 4.371554773381843e-42\n",
      "p value for gumbel_l = 2.275582226089825e-06\n",
      "p value for johnsonsb = 8.40193769288202e-62\n",
      "p value for kappa4 = 5.440679375551408e-12\n",
      "p value for lognorm = 8.538407160860825e-23\n",
      "p value for nct = 0.0003740512893746841\n",
      "p value for norm = 8.973880770320002e-06\n",
      "p value for norminvgauss = 3.3178705246034226e-05\n",
      "p value for powernorm = 0.00011849751955444802\n",
      "p value for rice = 0.00011833002960228116\n",
      "p value for recipinvgauss = 1.957916752902072e-07\n",
      "p value for t = 8.972846375529713e-06\n",
      "p value for trapz = 1.8983891174798298e-38\n",
      "p value for truncnorm = 2.539236515610462e-06\n",
      "\n",
      "Best fitting distribution: alpha\n",
      "Best p value: 0.0005609846480252995\n",
      "Parameters for the best fit: (6.734843933630203, -5.500744811228249, 44.826257131250145)\n",
      "\n",
      "\n",
      "\n",
      "************************\n",
      "year: 2023  Bowler: Rashid Khan\n",
      "p value for alpha = 1.4259399000489275e-06\n",
      "p value for beta = 8.8954046965209e-27\n",
      "p value for betaprime = 3.407105814148136e-65\n",
      "p value for burr12 = 2.5587675833251047e-18\n",
      "p value for crystalball = 2.99049361738744e-09\n",
      "p value for dgamma = 6.928485900596178e-10\n",
      "p value for dweibull = 6.928168431614811e-10\n",
      "p value for erlang = 1.052461604472364e-41\n",
      "p value for exponnorm = 7.720335528170629e-07\n",
      "p value for f = 4.940207066298226e-10\n",
      "p value for fatiguelife = 1.4667845015790087e-07\n",
      "p value for gamma = 3.120866167200452e-31\n",
      "p value for gengamma = 3.3780076161228415e-35\n",
      "p value for gumbel_l = 7.911140658362043e-09\n",
      "p value for johnsonsb = 6.659510229977693e-18\n",
      "p value for kappa4 = 6.390225516379688e-22\n",
      "p value for lognorm = 6.677625232671758e-27\n",
      "p value for nct = 8.389699838025371e-07\n",
      "p value for norm = 2.9905103094429466e-09\n",
      "p value for norminvgauss = 1.9883690059384983e-07\n",
      "p value for powernorm = 5.69320390726131e-08\n",
      "p value for rice = 6.008338811339319e-08\n",
      "p value for recipinvgauss = 1.0204427503324627e-07\n",
      "p value for t = 4.1495986291836466e-08\n",
      "p value for trapz = 4.291139733358819e-55\n",
      "p value for truncnorm = 3.0854549274395264e-07\n",
      "\n",
      "Best fitting distribution: alpha\n",
      "Best p value: 1.4259399000489275e-06\n",
      "Parameters for the best fit: (5.783058438949956, -4.20986029264825, 30.878991656277478)\n",
      "\n",
      "\n",
      "\n",
      "************************\n",
      "year: 2022  Bowler: YS Chahal\n",
      "p value for alpha = 1.1180274965710719e-05\n"
     ]
    },
    {
     "name": "stdout",
     "output_type": "stream",
     "text": [
      "p value for beta = 1.0295677049868252e-44\n",
      "p value for betaprime = 6.005755537239427e-40\n",
      "p value for burr12 = 1.7979353447013811e-12\n",
      "p value for crystalball = 5.1232708024114544e-08\n",
      "p value for dgamma = 4.012289620255995e-08\n",
      "p value for dweibull = 1.3446088982977968e-07\n",
      "p value for erlang = 2.6044501249608127e-33\n",
      "p value for exponnorm = 9.70188325365383e-06\n",
      "p value for f = 4.3760412135414686e-11\n",
      "p value for fatiguelife = 1.0610357499785987e-07\n",
      "p value for gamma = 3.2021687139045712e-55\n",
      "p value for gengamma = 4.0264602677437785e-26\n",
      "p value for gumbel_l = 8.01003405037582e-08\n",
      "p value for johnsonsb = 9.127045203599366e-44\n",
      "p value for kappa4 = 5.8742872003226356e-27\n",
      "p value for lognorm = 1.2869567438882943e-32\n",
      "p value for nct = 5.296213377700368e-06\n",
      "p value for norm = 5.1235707238843755e-08\n",
      "p value for norminvgauss = 3.3808295582037935e-07\n",
      "p value for powernorm = 1.021178511514112e-06\n",
      "p value for rice = 1.0373024397997343e-06\n",
      "p value for recipinvgauss = 1.53711078374615e-21\n",
      "p value for t = 1.1782910213333637e-07\n",
      "p value for trapz = 1.8568421933146807e-70\n",
      "p value for truncnorm = 1.609035128404315e-07\n",
      "\n",
      "Best fitting distribution: alpha\n",
      "Best p value: 1.1180274965710719e-05\n",
      "Parameters for the best fit: (6.054854001673274, -4.898293043793716, 36.81747298117385)\n",
      "\n",
      "\n",
      "\n",
      "************************\n",
      "year: 2022  Bowler: PWH de Silva\n",
      "p value for alpha = 0.20501605213397378\n",
      "p value for beta = 6.089293734595811e-08\n",
      "p value for betaprime = 3.597368592551267e-07\n",
      "p value for burr12 = 2.7078633279028545e-05\n",
      "p value for crystalball = 0.12578198773774585\n",
      "p value for dgamma = 0.04130328255260218\n",
      "p value for dweibull = 0.08384976427162893\n",
      "p value for erlang = 0.0002485071992361352\n",
      "p value for exponnorm = 0.30764249735710736\n",
      "p value for f = 0.006583510714380458\n",
      "p value for fatiguelife = 0.08795961369535732\n",
      "p value for gamma = 8.727963496024317e-05\n",
      "p value for gengamma = 0.00519063892676308\n",
      "p value for gumbel_l = 0.014493692496563626\n",
      "p value for johnsonsb = 2.0634443260981352e-05\n",
      "p value for kappa4 = 1.8620061578617215e-06\n",
      "p value for lognorm = 5.934676005942877e-06\n",
      "p value for nct = 0.18287627001224627\n",
      "p value for norm = 0.1257824642902543\n",
      "p value for norminvgauss = 0.10918449199764368\n",
      "p value for powernorm = 0.1963520712744381\n",
      "p value for rice = 0.1985929094578025\n",
      "p value for recipinvgauss = 4.423190500679613e-05\n",
      "p value for t = 0.19733199368277732\n",
      "p value for trapz = 1.9360347216700493e-15\n",
      "p value for truncnorm = 0.10632743012364121\n",
      "\n",
      "Best fitting distribution: exponnorm\n",
      "Best p value: 0.30764249735710736\n",
      "Parameters for the best fit: (1.5651879172672551, 0.40254290759385924, 0.6274498232929551)\n",
      "\n",
      "\n",
      "\n",
      "************************\n",
      "year: 2022  Bowler: K Rabada\n",
      "p value for alpha = 0.017666063432803525\n",
      "p value for beta = 4.443616547466671e-12\n",
      "p value for betaprime = 4.702163459968348e-17\n",
      "p value for burr12 = 1.0217952890763225e-11\n",
      "p value for crystalball = 0.003016635703159909\n",
      "p value for dgamma = 0.004039539567682993\n",
      "p value for dweibull = 0.004897361468685357\n",
      "p value for erlang = 6.666902843060855e-10\n",
      "p value for exponnorm = 0.012447792991604367\n",
      "p value for f = 6.634692021556237e-06\n",
      "p value for fatiguelife = 0.011517197590084738\n",
      "p value for gamma = 1.032396146883282e-12\n",
      "p value for gengamma = 2.6816733980980167e-12\n",
      "p value for gumbel_l = 0.00045795960689101544\n",
      "p value for johnsonsb = 3.123503411674573e-12\n",
      "p value for kappa4 = 2.016542974865221e-05\n",
      "p value for lognorm = 2.015341179637063e-18\n",
      "p value for nct = 0.01550593593647065\n",
      "p value for norm = 0.003016639761756701\n",
      "p value for norminvgauss = 0.011593590051028446\n",
      "p value for powernorm = 0.012612430707673927\n",
      "p value for rice = 0.012664345659931242\n",
      "p value for recipinvgauss = 0.011156908993035786\n",
      "p value for t = 0.0030166123509550724\n",
      "p value for trapz = 2.238131859007279e-22\n",
      "p value for truncnorm = 0.0070053354346667485\n",
      "\n",
      "Best fitting distribution: alpha\n",
      "Best p value: 0.017666063432803525\n",
      "Parameters for the best fit: (8.172744476082507, -7.746415964015842, 75.18055369544504)\n",
      "\n",
      "\n",
      "\n"
     ]
    }
   ],
   "source": [
    "import warnings\n",
    "warnings.filterwarnings('ignore')\n",
    "wickets = ipl_bbbc.groupby(['Bowler','Match id'])[['wicket_confirmation']].sum().reset_index()\n",
    "\n",
    "for key in list_top_bowler_last_three_year:\n",
    "    for bowler in list_top_bowler_last_three_year[key]:\n",
    "        print(\"************************\")\n",
    "        print(\"year:\", key, \" Bowler:\", bowler)\n",
    "        get_best_distribution(wickets[wickets[\"Bowler\"] == bowler][\"wicket_confirmation\"])\n",
    "        print(\"\\n\\n\")"
   ]
  },
  {
   "cell_type": "markdown",
   "id": "3738f046",
   "metadata": {
    "ExecuteTime": {
     "end_time": "2024-06-17T19:30:56.139137Z",
     "start_time": "2024-06-17T19:30:56.136008Z"
    }
   },
   "source": [
    "**Relationship between the performance of a player and the salary he gets**"
   ]
  },
  {
   "cell_type": "code",
   "execution_count": 32,
   "id": "789ddaf2",
   "metadata": {
    "ExecuteTime": {
     "end_time": "2024-06-17T19:57:30.473869Z",
     "start_time": "2024-06-17T19:57:30.467885Z"
    }
   },
   "outputs": [],
   "source": [
    "R2024 =total_run_each_year[total_run_each_year['year']==2024]"
   ]
  },
  {
   "cell_type": "code",
   "execution_count": 33,
   "id": "6ba9a083",
   "metadata": {
    "ExecuteTime": {
     "end_time": "2024-06-17T20:15:26.949292Z",
     "start_time": "2024-06-17T20:15:26.944738Z"
    }
   },
   "outputs": [
    {
     "name": "stdout",
     "output_type": "stream",
     "text": [
      "Collecting fuzzywuzzy\n",
      "  Obtaining dependency information for fuzzywuzzy from https://files.pythonhosted.org/packages/43/ff/74f23998ad2f93b945c0309f825be92e04e0348e062026998b5eefef4c33/fuzzywuzzy-0.18.0-py2.py3-none-any.whl.metadata\n",
      "  Downloading fuzzywuzzy-0.18.0-py2.py3-none-any.whl.metadata (4.9 kB)\n",
      "Downloading fuzzywuzzy-0.18.0-py2.py3-none-any.whl (18 kB)\n",
      "Installing collected packages: fuzzywuzzy\n",
      "Successfully installed fuzzywuzzy-0.18.0\n",
      "Note: you may need to restart the kernel to use updated packages.\n"
     ]
    }
   ],
   "source": [
    "pip install fuzzywuzzy"
   ]
  },
  {
   "cell_type": "code",
   "execution_count": 34,
   "id": "ccd0c41e",
   "metadata": {
    "ExecuteTime": {
     "end_time": "2024-06-17T20:15:41.651153Z",
     "start_time": "2024-06-17T20:15:33.461692Z"
    }
   },
   "outputs": [],
   "source": [
    "from fuzzywuzzy import process\n",
    "\n",
    "# Convert to DataFrame\n",
    "df_salary = ipl_salary.copy()\n",
    "df_runs = R2024.copy()\n",
    "\n",
    "# Function to match names\n",
    "def match_names(name, names_list):\n",
    "    match, score = process.extractOne(name, names_list)\n",
    "    return match if score >= 80 else None  # Use a threshold score of 80\n",
    "\n",
    "# Create a new column in df_salary with matched names from df_runs\n",
    "df_salary['Matched_Player'] = df_salary['Player'].apply(lambda x: match_names(x, df_runs['Striker'].tolist()))\n",
    "\n",
    "# Merge the DataFrames on the matched names\n",
    "df_merged = pd.merge(df_salary, df_runs, left_on='Matched_Player', right_on='Striker')"
   ]
  },
  {
   "cell_type": "code",
   "execution_count": 35,
   "id": "307e8a5f",
   "metadata": {
    "ExecuteTime": {
     "end_time": "2024-06-17T20:08:31.379361Z",
     "start_time": "2024-06-17T20:08:31.346734Z"
    }
   },
   "outputs": [
    {
     "name": "stdout",
     "output_type": "stream",
     "text": [
      "<class 'pandas.core.frame.DataFrame'>\n",
      "RangeIndex: 111 entries, 0 to 110\n",
      "Data columns (total 9 columns):\n",
      " #   Column          Non-Null Count  Dtype  \n",
      "---  ------          --------------  -----  \n",
      " 0   Player          111 non-null    object \n",
      " 1   Salary          111 non-null    object \n",
      " 2   Rs              111 non-null    int64  \n",
      " 3   international   111 non-null    int64  \n",
      " 4   iconic          0 non-null      float64\n",
      " 5   Matched_Player  111 non-null    object \n",
      " 6   year            111 non-null    int32  \n",
      " 7   Striker         111 non-null    object \n",
      " 8   runs_scored     111 non-null    int64  \n",
      "dtypes: float64(1), int32(1), int64(3), object(4)\n",
      "memory usage: 7.5+ KB\n"
     ]
    }
   ],
   "source": [
    "df_merged.info()"
   ]
  },
  {
   "cell_type": "code",
   "execution_count": 36,
   "id": "d24035b7",
   "metadata": {
    "ExecuteTime": {
     "end_time": "2024-06-17T20:08:37.821228Z",
     "start_time": "2024-06-17T20:08:37.774094Z"
    }
   },
   "outputs": [
    {
     "name": "stdout",
     "output_type": "stream",
     "text": [
      "Correlation between Salary and Runs: 0.30612483765821674\n"
     ]
    }
   ],
   "source": [
    "# Calculate the correlation\n",
    "correlation = df_merged['Rs'].corr(df_merged['runs_scored'])\n",
    "\n",
    "print(\"Correlation between Salary and Runs:\", correlation)"
   ]
  },
  {
   "cell_type": "markdown",
   "id": "910098b3",
   "metadata": {},
   "source": [
    "### Fit the distribution for DA Warner"
   ]
  },
  {
   "cell_type": "code",
   "execution_count": 42,
   "id": "b3618bfc",
   "metadata": {},
   "outputs": [
    {
     "name": "stdout",
     "output_type": "stream",
     "text": [
      "************************\n",
      "Fitting distribution for player: DA\n",
      "p value for alpha = 1.0585629720560084e-52\n",
      "p value for beta = 3.5745573324904945e-08\n",
      "p value for betaprime = 6.456048231755493e-05\n",
      "p value for burr12 = 0.0053367737997585245\n",
      "p value for crystalball = 0.011506079014413343\n",
      "p value for dgamma = 0.0034368260383678033\n",
      "p value for dweibull = 0.011575028320705543\n",
      "p value for erlang = 1.3361116985872245e-07\n",
      "p value for exponnorm = 0.0047146127753554595\n",
      "p value for f = 9.652822993737924e-25\n",
      "p value for fatiguelife = 0.0007338149332191667\n",
      "p value for gamma = 7.42402039756757e-06\n",
      "p value for gengamma = 0.000137571361634721\n",
      "p value for gumbel_l = 2.2859043177733283e-05\n",
      "p value for johnsonsb = 0.035283250510082076\n",
      "p value for kappa4 = 2.2177511140768323e-16\n",
      "p value for lognorm = 4.90625127843688e-49\n",
      "p value for nct = 0.0035569577412994857\n",
      "p value for norm = 0.011506078010792661\n",
      "p value for norminvgauss = 0.002175511276856443\n",
      "p value for powernorm = 0.002631374948064467\n",
      "p value for rice = 0.0026691401265828436\n",
      "p value for recipinvgauss = 6.542659700844345e-05\n",
      "p value for t = 0.011396815284398842\n",
      "p value for trapz = 7.136539776258239e-60\n",
      "p value for truncnorm = 0.004237925089261196\n",
      "\n",
      "Best fitting distribution: johnsonsb\n",
      "Best p value: 0.035283250510082076\n",
      "Parameters for the best fit: (0.8421115414450187, 0.5881937839851221, -0.6717865945304258, 128.9227493742876)\n",
      "\n",
      "\n",
      "\n"
     ]
    }
   ],
   "source": [
    "import warnings\n",
    "warnings.filterwarnings('ignore')\n",
    "\n",
    "# Filter the dataset for the player 'DA Warner'\n",
    "runs_daw = runs[runs[\"Striker\"] == 'DA Warner']\n",
    "\n",
    "# Ensure that there is data available for 'DA Warner'\n",
    "if not runs_daw.empty:\n",
    "    print(\"************************\")\n",
    "    print(\"Fitting distribution for player: DA Warner\")\n",
    "    get_best_distribution(runs_daw[\"runs_scored\"])\n",
    "    print(\"\\n\\n\")\n",
    "else:\n",
    "    print(\"No data available for player: DA Warner\")\n"
   ]
  },
  {
   "cell_type": "code",
   "execution_count": 46,
   "id": "cd8fc783",
   "metadata": {},
   "outputs": [
    {
     "data": {
      "image/png": "[encoded data removed]",
      "text/plain": [
       "<Figure size 1000x600 with 1 Axes>"
      ]
     },
     "metadata": {},
     "output_type": "display_data"
    }
   ],
   "source": [
    "from scipy.stats import johnsonsb\n",
    "\n",
    "# Data for the player 'DA Warner'\n",
    "data = runs_daw[\"runs_scored\"]\n",
    "\n",
    "# Best fitting distribution parameters for Johnson SB\n",
    "params = (0.8421115414450187, 0.5881937839851221, -0.6717865945304258, 128.9227493742876)\n",
    "\n",
    "# Create a range of values to plot the PDF (Probability Density Function)\n",
    "x = np.linspace(data.min(), data.max(), 1000)\n",
    "pdf_fitted = johnsonsb.pdf(x, *params)\n",
    "\n",
    "# Plot the histogram and PDF\n",
    "plt.figure(figsize=(10, 6))\n",
    "plt.hist(data, bins=30, density=True, alpha=0.6, color='b', label='Runs Histogram')\n",
    "plt.plot(x, pdf_fitted, 'r-', lw=2, label='Johnson SB PDF')\n",
    "plt.xlabel('Runs Scored')\n",
    "plt.ylabel('Density')\n",
    "plt.title('Best Fitting Distribution for DA Warner\\'s Runs: Johnson SB')\n",
    "plt.legend(loc='upper right')\n",
    "plt.show()\n"
   ]
  },
  {
   "cell_type": "markdown",
   "id": "ac20ec99",
   "metadata": {},
   "source": [
    "### Top 10 batsmen and bowlers in the last 3 years"
   ]
  },
  {
   "cell_type": "code",
   "execution_count": 74,
   "id": "5dc72e15",
   "metadata": {},
   "outputs": [
    {
     "name": "stdout",
     "output_type": "stream",
     "text": [
      "Index(['V Kohli', 'S Dhawan', 'DA Warner', 'RG Sharma', 'SK Raina', 'MS Dhoni',\n",
      "       'AB de Villiers', 'CH Gayle', 'RV Uthappa', 'KD Karthik'],\n",
      "      dtype='object', name='Striker')\n",
      "Index(['YS Chahal', 'DJ Bravo', 'SP Narine', 'PP Chawla', 'R Ashwin',\n",
      "       'B Kumar', 'SL Malinga', 'A Mishra', 'JJ Bumrah', 'RA Jadeja'],\n",
      "      dtype='object', name='Bowler')\n"
     ]
    }
   ],
   "source": [
    "# Get top 10 batsmen and bowlers in the last 3 years\n",
    "top_batsmen = player_runs.groupby('Striker')['runs_scored'].sum().nlargest(10).index\n",
    "top_bowlers = player_wickets.groupby('Bowler')['wicket_confirmation'].sum().nlargest(10).index\n",
    "print(top_batsmen)\n",
    "print(top_bowlers)"
   ]
  },
  {
   "cell_type": "code",
   "execution_count": 62,
   "id": "db93118c",
   "metadata": {},
   "outputs": [
    {
     "name": "stdout",
     "output_type": "stream",
     "text": [
      "Collecting thefuzzNote: you may need to restart the kernel to use updated packages.\n",
      "\n",
      "  Obtaining dependency information for thefuzz from https://files.pythonhosted.org/packages/82/4f/1695e70ceb3604f19eda9908e289c687ea81c4fecef4d90a9d1d0f2f7ae9/thefuzz-0.22.1-py3-none-any.whl.metadata\n",
      "  Downloading thefuzz-0.22.1-py3-none-any.whl.metadata (3.9 kB)\n",
      "Collecting rapidfuzz<4.0.0,>=3.0.0 (from thefuzz)\n",
      "  Obtaining dependency information for rapidfuzz<4.0.0,>=3.0.0 from https://files.pythonhosted.org/packages/04/10/2c0ef45d4ace8dde87cfb91e48fb5c9976f8e01a57eb3230d90b82801dc5/rapidfuzz-3.9.3-cp311-cp311-win_amd64.whl.metadata\n",
      "  Downloading rapidfuzz-3.9.3-cp311-cp311-win_amd64.whl.metadata (12 kB)\n",
      "Downloading thefuzz-0.22.1-py3-none-any.whl (8.2 kB)\n",
      "Downloading rapidfuzz-3.9.3-cp311-cp311-win_amd64.whl (1.7 MB)\n",
      "   ---------------------------------------- 0.0/1.7 MB ? eta -:--:--\n",
      "   ---------------------------------------- 0.0/1.7 MB ? eta -:--:--\n",
      "   ---------------------------------------- 0.0/1.7 MB ? eta -:--:--\n",
      "   - -------------------------------------- 0.1/1.7 MB 648.1 kB/s eta 0:00:03\n",
      "   -- ------------------------------------- 0.1/1.7 MB 901.1 kB/s eta 0:00:02\n",
      "   ------ --------------------------------- 0.3/1.7 MB 1.4 MB/s eta 0:00:01\n",
      "   --------- ------------------------------ 0.4/1.7 MB 1.7 MB/s eta 0:00:01\n",
      "   ---------------- ----------------------- 0.7/1.7 MB 2.4 MB/s eta 0:00:01\n",
      "   -------------------- ------------------- 0.8/1.7 MB 2.6 MB/s eta 0:00:01\n",
      "   ---------------------- ----------------- 0.9/1.7 MB 2.5 MB/s eta 0:00:01\n",
      "   --------------------------- ------------ 1.1/1.7 MB 2.9 MB/s eta 0:00:01\n",
      "   ------------------------------ --------- 1.3/1.7 MB 2.7 MB/s eta 0:00:01\n",
      "   ----------------------------------- ---- 1.5/1.7 MB 2.8 MB/s eta 0:00:01\n",
      "   ---------------------------------------- 1.7/1.7 MB 3.0 MB/s eta 0:00:00\n",
      "Installing collected packages: rapidfuzz, thefuzz\n",
      "Successfully installed rapidfuzz-3.9.3 thefuzz-0.22.1\n"
     ]
    }
   ],
   "source": [
    "pip install thefuzz"
   ]
  },
  {
   "cell_type": "code",
   "execution_count": 70,
   "id": "563f4047",
   "metadata": {},
   "outputs": [],
   "source": [
    "# Function to match names using fuzzy matching\n",
    "from thefuzz import process\n",
    "def match_names(name, names_list):\n",
    "    match, score = process.extractOne(name, names_list)\n",
    "    return match if score > 80 else None"
   ]
  },
  {
   "cell_type": "code",
   "execution_count": 73,
   "id": "a9c9a83c",
   "metadata": {},
   "outputs": [
    {
     "name": "stdout",
     "output_type": "stream",
     "text": [
      "['Virat Kohli', 'Rishi Dhawan', 'David Warner', 'Sandeep Sharma', None, 'MS Dhoni', None, None, None, None]\n"
     ]
    }
   ],
   "source": [
    "# Apply fuzzy matching to get exact names for salaries\n",
    "matched_batsmen = [match_names(player, ipl_salary['Player'].tolist()) for player in top_batsmen]\n",
    "matched_bowlers = [match_names(player, ipl_salary['Player'].tolist()) for player in top_bowlers]\n",
    "print(matched_batsmen)"
   ]
  },
  {
   "cell_type": "code",
   "execution_count": 72,
   "id": "cd643ed1",
   "metadata": {},
   "outputs": [
    {
     "name": "stdout",
     "output_type": "stream",
     "text": [
      "             Player      Salary    Rs  international  iconic\n",
      "3      David Warner  6.25 crore   625              1     NaN\n",
      "24         MS Dhoni    12 crore  1200              0     NaN\n",
      "107    Rishi Dhawan     55 lakh    55              0     NaN\n",
      "124  Sandeep Sharma     50 lakh    50              0     NaN\n",
      "143     Virat Kohli    15 crore  1500              0     NaN\n",
      "               Player     Salary    Rs  international  iconic\n",
      "9        Mukesh Kumar  5.5 crore   550              0     NaN\n",
      "29    Ravindra Jadeja   16 crore  1600              0     NaN\n",
      "61        Amit Mishra    50 lakh    50              0     NaN\n",
      "85     Jasprit Bumrah   12 crore  1200              0     NaN\n",
      "122         R. Ashwin    5 crore   500              0     NaN\n",
      "129  Yuzvendra Chahal  6.5 crore   650              0     NaN\n"
     ]
    }
   ],
   "source": [
    "# Filter salaries for the matched players\n",
    "top_batsmen_salaries = ipl_salary[ipl_salary['Player'].isin(matched_batsmen)]\n",
    "top_bowlers_salaries = ipl_salary[ipl_salary['Player'].isin(matched_bowlers)]\n",
    "\n",
    "# Print the matched salaries for verification\n",
    "print(top_batsmen_salaries)\n",
    "print(top_bowlers_salaries)"
   ]
  },
  {
   "cell_type": "markdown",
   "id": "5240e47d",
   "metadata": {},
   "source": [
    "### T-test - Compare the salaries of the top 10 batsmen and top 10 bowlers"
   ]
  },
  {
   "cell_type": "code",
   "execution_count": 75,
   "id": "e0e82170",
   "metadata": {},
   "outputs": [
    {
     "name": "stdout",
     "output_type": "stream",
     "text": [
      "T-statistic: -0.19847158812018, P-value: 0.8470869781735805\n",
      "There is no significant difference between the salaries of the top 10 batsmen and the top 10 bowlers.\n"
     ]
    }
   ],
   "source": [
    "# Perform t-test\n",
    "t_stat, p_value = ttest_ind(top_batsmen_salaries['Rs'], top_bowlers_salaries['Rs'])\n",
    "\n",
    "print(f\"T-statistic: {t_stat}, P-value: {p_value}\")\n",
    "\n",
    "if p_value < 0.05:\n",
    "    print(\"There is a significant difference between the salaries of the top 10 batsmen and the top 10 bowlers.\")\n",
    "else:\n",
    "    print(\"There is no significant difference between the salaries of the top 10 batsmen and the top 10 bowlers.\")"
   ]
  },
  {
   "cell_type": "code",
   "execution_count": null,
   "id": "a61ca896",
   "metadata": {},
   "outputs": [],
   "source": []
  }
 ],
 "metadata": {
  "kernelspec": {
   "display_name": "Python 3 (ipykernel)",
   "language": "python",
   "name": "python3"
  },
  "language_info": {
   "codemirror_mode": {
    "name": "ipython",
    "version": 3
   },
   "file_extension": ".py",
   "mimetype": "text/x-python",
   "name": "python",
   "nbconvert_exporter": "python",
   "pygments_lexer": "ipython3",
   "version": "3.11.5"
  },
  "varInspector": {
   "cols": {
    "lenName": 16,
    "lenType": 16,
    "lenVar": 40
   },
   "kernels_config": {
    "python": {
     "delete_cmd_postfix": "",
     "delete_cmd_prefix": "del ",
     "library": "var_list.py",
     "varRefreshCmd": "print(var_dic_list())"
    },
    "r": {
     "delete_cmd_postfix": ") ",
     "delete_cmd_prefix": "rm(",
     "library": "var_list.r",
     "varRefreshCmd": "cat(var_dic_list()) "
    }
   },
   "types_to_exclude": [
    "module",
    "function",
    "builtin_function_or_method",
    "instance",
    "_Feature"
   ],
   "window_display": false
  }
 },
 "nbformat": 4,
 "nbformat_minor": 5
}
